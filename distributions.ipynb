{
 "cells": [
  {
   "cell_type": "markdown",
   "metadata": {},
   "source": [
    "<h1>A Study of Distributions</h1>\n",
    "<p>What follows is six different distributions generated using numpy's random distribution methods:</p>"
   ]
  },
  {
   "cell_type": "code",
   "execution_count": 21,
   "metadata": {
    "collapsed": false
   },
   "outputs": [
    {
     "data": {
      "image/png": "[encoded data removed]",
      "text/plain": [
       "<matplotlib.figure.Figure at 0x24adf6d8518>"
      ]
     },
     "metadata": {},
     "output_type": "display_data"
    }
   ],
   "source": [
    "import numpy as np\n",
    "import pandas as pd\n",
    "import matplotlib.pyplot as plt\n",
    "%matplotlib inline\n",
    "\n",
    "def plotDist(dist):\n",
    "    plt.hist(dist)\n",
    "    plt.axvline(dist.mean(), color = 'r', linestyle = 'solid', linewidth = 2)\n",
    "    plt.axvline(dist.mean() + dist.std(), color = 'g', linestyle = 'dashed', linewidth = 2)\n",
    "    plt.axvline(dist.mean() - dist.std(), color = 'g', linestyle = 'dashed', linewidth = 2)\n",
    "\n",
    "#laplace(mean, scale, size)\n",
    "plt.subplot(2,3,1)\n",
    "plt.title('Laplace')\n",
    "lap = np.random.laplace(50, 25, 100)\n",
    "plotDist(lap)\n",
    "\n",
    "#gumbel(mean, scale, size)\n",
    "plt.subplot(2,3,2)\n",
    "plt.title('Gumbel')\n",
    "gum = np.random.gumbel(50, 25, 100)\n",
    "plotDist(gum)\n",
    "\n",
    "#poisson(lambda, size)\n",
    "plt.subplot(2,3,3)\n",
    "plt.title('Poisson')\n",
    "pois = np.random.poisson(25, 100)\n",
    "plotDist(pois)\n",
    "\n",
    "#rayleigh(scale, size)\n",
    "plt.subplot(2,3,4)\n",
    "plt.title('Rayleigh')\n",
    "raye = np.random.rayleigh(25, 100)\n",
    "plotDist(raye)\n",
    "\n",
    "#triangular(left, mode, right, size)\n",
    "plt.subplot(2,3,5)\n",
    "plt.title('Triangular')\n",
    "tria = np.random.triangular(0,50,100,100)\n",
    "plotDist(tria)\n",
    "\n",
    "#Wald(mean, scale, size)\n",
    "plt.subplot(2,3,6)\n",
    "plt.title('Wald')\n",
    "wald = np.random.wald(50,25,100)\n",
    "plotDist(wald)\n",
    "\n",
    "plt.tight_layout()\n",
    "plt.show()"
   ]
  },
  {
   "cell_type": "markdown",
   "metadata": {},
   "source": [
    "<h2>Evaluation</h2>\n",
    "<p>As we can see, for distributions happen to be more symmetrical such as the Poisson and the Laplace distribution above, the mean describes the clustering of the data well enough, and the standard deviation does reasonably well in enscribing the overal clustering of the data, but it does not offer a complete description of what can be seen in the data. Note the end-points clustering in the Poisson distribution, for example.</p>"
   ]
  },
  {
   "cell_type": "code",
   "execution_count": 22,
   "metadata": {
    "collapsed": false
   },
   "outputs": [
    {
     "data": {
      "image/png": "[encoded data removed]",
      "text/plain": [
       "<matplotlib.figure.Figure at 0x24adf69db00>"
      ]
     },
     "metadata": {},
     "output_type": "display_data"
    }
   ],
   "source": [
    "norm1 = np.random.normal(5, 0.5, 100)\n",
    "norm2 = np.random.normal(10, 1, 100)\n",
    "norm3 = norm1 + norm2\n",
    "\n",
    "plt.title('Sum of two Normal Distributions:')\n",
    "plotDist(norm3)\n",
    "plt.show()"
   ]
  },
  {
   "cell_type": "markdown",
   "metadata": {},
   "source": [
    "<h2>Evaluation</h2>\n",
    "<p>Here we can see the sum of two normal distributions who were generated to have two different means. We can tell that the data is assymetrical, and thus skewed.</p>"
   ]
  }
 ],
 "metadata": {
  "kernelspec": {
   "display_name": "Python 3",
   "language": "python",
   "name": "python3"
  },
  "language_info": {
   "codemirror_mode": {
    "name": "ipython",
    "version": 3
   },
   "file_extension": ".py",
   "mimetype": "text/x-python",
   "name": "python",
   "nbconvert_exporter": "python",
   "pygments_lexer": "ipython3",
   "version": "3.6.0"
  }
 },
 "nbformat": 4,
 "nbformat_minor": 2
}
